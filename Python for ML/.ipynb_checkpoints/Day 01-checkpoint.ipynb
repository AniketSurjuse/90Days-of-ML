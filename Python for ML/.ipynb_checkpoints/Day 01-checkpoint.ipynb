{
 "cells": [
  {
   "cell_type": "markdown",
   "id": "a47e1f91",
   "metadata": {},
   "source": [
    "# Day 1: Python for Machine Learning"
   ]
  },
  {
   "cell_type": "markdown",
   "id": "48515b5e",
   "metadata": {},
   "source": [
    "## Section 1 : Python Basics"
   ]
  },
  {
   "cell_type": "markdown",
   "id": "00bb9e84",
   "metadata": {},
   "source": [
    "Installing Python:\n",
    "Use anaconda or pip to install python. consider creating a virtual environment."
   ]
  },
  {
   "cell_type": "markdown",
   "id": "ee7b4109",
   "metadata": {},
   "source": [
    "### Variables \n",
    "Variables are used to store data. they are created when you assign value to them."
   ]
  },
  {
   "cell_type": "code",
   "execution_count": 2,
   "id": "fb55102b",
   "metadata": {},
   "outputs": [],
   "source": [
    "#Example\n",
    "x = 10\n",
    "name = \"Aniket\""
   ]
  },
  {
   "cell_type": "markdown",
   "id": "5aa08542",
   "metadata": {},
   "source": [
    "### Data Types\n",
    "Python has several built-in data types such as:\n",
    "int\n",
    "float\n",
    "str\n",
    "list\n",
    "tuple\n",
    "dict"
   ]
  },
  {
   "cell_type": "code",
   "execution_count": 3,
   "id": "a1d728b9",
   "metadata": {},
   "outputs": [],
   "source": [
    "a = 1 #int\n",
    "b = 2.0 #float\n",
    "c = \"aniket\" #string\n",
    "d = [1,2,3,'hello',True] #list\n",
    "e = True\n",
    "f = (1,2,3)\n",
    "g = {\"Name\" : \"Aniket\", \"age\" : 12}\n"
   ]
  },
  {
   "cell_type": "markdown",
   "id": "c9762e71",
   "metadata": {},
   "source": [
    "### Operators\n",
    "Python supports various operators for arithmatic, comparison, logical operation"
   ]
  },
  {
   "cell_type": "code",
   "execution_count": 4,
   "id": "c5704f82",
   "metadata": {},
   "outputs": [],
   "source": [
    "a = 5\n",
    "b = 2\n",
    "\n",
    "sum_result = a + b\n",
    "subtraction_result = a - b\n",
    "multiplication_result = a * b\n",
    "division_result = a / b\n",
    "modulo_result = a % b\n",
    "power_result = a ** b"
   ]
  },
  {
   "cell_type": "markdown",
   "id": "52cd2016",
   "metadata": {},
   "source": [
    "### Control flow\n",
    "--> if statements, loops and exception handeling"
   ]
  },
  {
   "cell_type": "code",
   "execution_count": 5,
   "id": "e08db8c3",
   "metadata": {},
   "outputs": [
    {
     "name": "stdout",
     "output_type": "stream",
     "text": [
      "Your are an Adult\n"
     ]
    }
   ],
   "source": [
    "age = 18\n",
    "if age >=18:\n",
    "    print(\"You are an Adult\")\n",
    "else:\n",
    "    print(\"You are an Minor\")"
   ]
  },
  {
   "cell_type": "code",
   "execution_count": 6,
   "id": "85cf2d14",
   "metadata": {},
   "outputs": [
    {
     "name": "stdout",
     "output_type": "stream",
     "text": [
      "You are an adult\n"
     ]
    }
   ],
   "source": [
    "if age<15:\n",
    "    print(\"You are a kid\")\n",
    "elif age>15 and age<18:\n",
    "    print(\"You are a teenager\")\n",
    "else:\n",
    "    print(\"You are an adult\")"
   ]
  },
  {
   "cell_type": "code",
   "execution_count": 7,
   "id": "030ebdd7",
   "metadata": {},
   "outputs": [
    {
     "name": "stdout",
     "output_type": "stream",
     "text": [
      "0\n",
      "1\n",
      "2\n",
      "3\n",
      "4\n"
     ]
    }
   ],
   "source": [
    "for i in range(5):\n",
    "    print(i)"
   ]
  },
  {
   "cell_type": "code",
   "execution_count": 1,
   "id": "62827a9a",
   "metadata": {},
   "outputs": [
    {
     "name": "stdout",
     "output_type": "stream",
     "text": [
      "1\n",
      "2\n",
      "3\n",
      "4\n",
      "5\n",
      "6\n",
      "7\n",
      "8\n",
      "9\n",
      "10\n"
     ]
    }
   ],
   "source": [
    "idx = 0\n",
    "while idx<10:\n",
    "    print(idx+1)\n",
    "    idx +=1"
   ]
  },
  {
   "cell_type": "code",
   "execution_count": 2,
   "id": "1b7f0267",
   "metadata": {},
   "outputs": [
    {
     "name": "stdout",
     "output_type": "stream",
     "text": [
      "Can not divide by Zero\n"
     ]
    }
   ],
   "source": [
    "try:\n",
    "    result = 10/0\n",
    "    print(result)\n",
    "except ZeroDivisionError:\n",
    "    print(\"Can not divide by Zero\")"
   ]
  },
  {
   "cell_type": "markdown",
   "id": "309c5a66",
   "metadata": {},
   "source": [
    "`try` Block:\n",
    "\n",
    "The try block contains the code that might raise an exception.\n",
    "If an exception occurs within this block, the control immediately jumps to the corresponding except block.\n",
    "\n",
    "\n",
    "`except` Block:\n",
    "\n",
    "The except block specifies the type of exception it can handle (e.g., ZeroDivisionError).\n",
    "If an exception of the specified type occurs in the try block, the code inside the except block is executed.\n",
    "You can have multiple except blocks to handle different types of exceptions."
   ]
  },
  {
   "cell_type": "code",
   "execution_count": 5,
   "id": "9da0ad80",
   "metadata": {},
   "outputs": [
    {
     "name": "stdout",
     "output_type": "stream",
     "text": [
      "Error\n"
     ]
    }
   ],
   "source": [
    "try:\n",
    "    result = 10/0\n",
    "except:\n",
    "    print(\"Error\")\n",
    "else:\n",
    "    print(\"result is {} \".format(result))"
   ]
  },
  {
   "cell_type": "markdown",
   "id": "18699216",
   "metadata": {},
   "source": [
    "`finally` Block (Optional):\n",
    "The finally block contains code that will always be executed, whether an exception occurs or not.\n",
    "It is typically used for cleanup operations (e.g., closing files or releasing resources)."
   ]
  },
  {
   "cell_type": "code",
   "execution_count": 11,
   "id": "7556271d",
   "metadata": {},
   "outputs": [
    {
     "name": "stdout",
     "output_type": "stream",
     "text": [
      "5.0\n"
     ]
    }
   ],
   "source": [
    "try:\n",
    "    result = 10/2\n",
    "except ZeroDivisionError:\n",
    "    print(\"Cannot divide by Zero\")\n",
    "except ValueError:\n",
    "    print(\"Value Error\")\n",
    "else:\n",
    "    print(result)\n",
    "    \n",
    "    "
   ]
  },
  {
   "cell_type": "code",
   "execution_count": 13,
   "id": "a9a07790",
   "metadata": {},
   "outputs": [],
   "source": [
    "class CustomError(Exception):\n",
    "    def __init__(self,message = \"A custom Error occured\"):\n",
    "        self.message = message\n",
    "        super().__init__(self.message)"
   ]
  },
  {
   "cell_type": "code",
   "execution_count": 14,
   "id": "0c4c74b5",
   "metadata": {},
   "outputs": [],
   "source": [
    "def neg_checker(value):\n",
    "    if value<0:\n",
    "        raise CustomError(\"Input value must be non-negative\")"
   ]
  },
  {
   "cell_type": "code",
   "execution_count": 17,
   "id": "c1f8ffe4",
   "metadata": {},
   "outputs": [
    {
     "name": "stdout",
     "output_type": "stream",
     "text": [
      "Enter a numberak\n",
      "Invalid input. please enter valid number\n"
     ]
    }
   ],
   "source": [
    "try:\n",
    "    user_input = int(input(\"Enter a number\"))\n",
    "    neg_checker(user_input)\n",
    "except CustomError as ce:\n",
    "    print(\"Custome Error caught: {}\".format(ce))\n",
    "except ValueError:\n",
    "    print(\"Invalid input. please enter valid number\")"
   ]
  },
  {
   "cell_type": "markdown",
   "id": "f1cff8b4",
   "metadata": {},
   "source": [
    "#### Lists\n"
   ]
  },
  {
   "cell_type": "code",
   "execution_count": 19,
   "id": "db6c29d0",
   "metadata": {},
   "outputs": [
    {
     "name": "stdout",
     "output_type": "stream",
     "text": [
      "[]\n",
      "[]\n"
     ]
    }
   ],
   "source": [
    "#creating empty list\n",
    "\n",
    "ls = []\n",
    "print(ls)\n",
    "\n",
    "ls2 = list()\n",
    "print(ls2)"
   ]
  },
  {
   "cell_type": "code",
   "execution_count": 22,
   "id": "e0ffebd9",
   "metadata": {},
   "outputs": [],
   "source": [
    "a = [1,\"hello\",True,1.3,[1,2,3]]"
   ]
  },
  {
   "cell_type": "code",
   "execution_count": 23,
   "id": "968d38a5",
   "metadata": {},
   "outputs": [
    {
     "data": {
      "text/plain": [
       "[1, 'hello', True, 1.3, [1, 2, 3]]"
      ]
     },
     "execution_count": 23,
     "metadata": {},
     "output_type": "execute_result"
    }
   ],
   "source": [
    "a"
   ]
  },
  {
   "cell_type": "code",
   "execution_count": 24,
   "id": "0564c9de",
   "metadata": {},
   "outputs": [
    {
     "data": {
      "text/plain": [
       "1"
      ]
     },
     "execution_count": 24,
     "metadata": {},
     "output_type": "execute_result"
    }
   ],
   "source": [
    "a[0]"
   ]
  },
  {
   "cell_type": "code",
   "execution_count": 26,
   "id": "56f09616",
   "metadata": {},
   "outputs": [
    {
     "data": {
      "text/plain": [
       "2"
      ]
     },
     "execution_count": 26,
     "metadata": {},
     "output_type": "execute_result"
    }
   ],
   "source": [
    "a[4][1]"
   ]
  },
  {
   "cell_type": "code",
   "execution_count": 27,
   "id": "2a9f9007",
   "metadata": {},
   "outputs": [
    {
     "data": {
      "text/plain": [
       "1"
      ]
     },
     "execution_count": 27,
     "metadata": {},
     "output_type": "execute_result"
    }
   ],
   "source": [
    "#first element\n",
    "a[0]"
   ]
  },
  {
   "cell_type": "code",
   "execution_count": 28,
   "id": "c5b0843f",
   "metadata": {},
   "outputs": [
    {
     "data": {
      "text/plain": [
       "[1, 2, 3]"
      ]
     },
     "execution_count": 28,
     "metadata": {},
     "output_type": "execute_result"
    }
   ],
   "source": [
    "#last element\n",
    "a[-1]"
   ]
  },
  {
   "cell_type": "code",
   "execution_count": 29,
   "id": "01587d6d",
   "metadata": {},
   "outputs": [],
   "source": [
    "#modifying list\n",
    "a[4] = 5"
   ]
  },
  {
   "cell_type": "code",
   "execution_count": 30,
   "id": "c651044f",
   "metadata": {},
   "outputs": [
    {
     "data": {
      "text/plain": [
       "[1, 'hello', True, 1.3, 5]"
      ]
     },
     "execution_count": 30,
     "metadata": {},
     "output_type": "execute_result"
    }
   ],
   "source": [
    "a"
   ]
  },
  {
   "cell_type": "code",
   "execution_count": 31,
   "id": "1bd29f3d",
   "metadata": {},
   "outputs": [],
   "source": [
    "#adding element to list at the end\n",
    "a.append(\"aniket\")"
   ]
  },
  {
   "cell_type": "code",
   "execution_count": 32,
   "id": "ab8096af",
   "metadata": {},
   "outputs": [
    {
     "data": {
      "text/plain": [
       "[1, 'hello', True, 1.3, 5, 'aniket']"
      ]
     },
     "execution_count": 32,
     "metadata": {},
     "output_type": "execute_result"
    }
   ],
   "source": [
    "a"
   ]
  },
  {
   "cell_type": "code",
   "execution_count": 33,
   "id": "39039670",
   "metadata": {},
   "outputs": [],
   "source": [
    "a.insert(1,3.14) # insert(index, value)"
   ]
  },
  {
   "cell_type": "code",
   "execution_count": 34,
   "id": "e529ba58",
   "metadata": {},
   "outputs": [
    {
     "data": {
      "text/plain": [
       "[1, 3.14, 'hello', True, 1.3, 5, 'aniket']"
      ]
     },
     "execution_count": 34,
     "metadata": {},
     "output_type": "execute_result"
    }
   ],
   "source": [
    "a"
   ]
  },
  {
   "cell_type": "code",
   "execution_count": 35,
   "id": "34a4fe86",
   "metadata": {},
   "outputs": [
    {
     "data": {
      "text/plain": [
       "'aniket'"
      ]
     },
     "execution_count": 35,
     "metadata": {},
     "output_type": "execute_result"
    }
   ],
   "source": [
    "#deleting the element from the list\n",
    "a.pop()"
   ]
  },
  {
   "cell_type": "code",
   "execution_count": 36,
   "id": "c414a6a2",
   "metadata": {},
   "outputs": [
    {
     "data": {
      "text/plain": [
       "[1, 3.14, 'hello', True, 1.3, 5]"
      ]
     },
     "execution_count": 36,
     "metadata": {},
     "output_type": "execute_result"
    }
   ],
   "source": [
    "a"
   ]
  },
  {
   "cell_type": "code",
   "execution_count": 37,
   "id": "0d77d190",
   "metadata": {},
   "outputs": [
    {
     "data": {
      "text/plain": [
       "'hello'"
      ]
     },
     "execution_count": 37,
     "metadata": {},
     "output_type": "execute_result"
    }
   ],
   "source": [
    "a.pop(2)"
   ]
  },
  {
   "cell_type": "code",
   "execution_count": 52,
   "id": "f6518652",
   "metadata": {},
   "outputs": [
    {
     "name": "stdout",
     "output_type": "stream",
     "text": [
      "[1, 2, 3, 4]\n",
      "['one', 'two', 'three']\n"
     ]
    }
   ],
   "source": [
    "a = [1,2,3,4]\n",
    "b = [\"one\",\"two\",\"three\"]\n",
    "\n",
    "print(a)\n",
    "print(b)"
   ]
  },
  {
   "cell_type": "code",
   "execution_count": 53,
   "id": "f1c827d7",
   "metadata": {},
   "outputs": [
    {
     "name": "stdout",
     "output_type": "stream",
     "text": [
      "[1, 2, 3, 4, 'one', 'two', 'three']\n"
     ]
    }
   ],
   "source": [
    "a.extend(b) #extend appends the values from b to list a\n",
    "print(a)"
   ]
  },
  {
   "cell_type": "code",
   "execution_count": 54,
   "id": "a9c0cc78",
   "metadata": {},
   "outputs": [],
   "source": [
    "a = a+b #this is as same as extend"
   ]
  },
  {
   "cell_type": "code",
   "execution_count": 55,
   "id": "c11767d5",
   "metadata": {},
   "outputs": [
    {
     "data": {
      "text/plain": [
       "[1, 2, 3, 4, 'one', 'two', 'three', 'one', 'two', 'three']"
      ]
     },
     "execution_count": 55,
     "metadata": {},
     "output_type": "execute_result"
    }
   ],
   "source": [
    "a"
   ]
  },
  {
   "cell_type": "code",
   "execution_count": 57,
   "id": "4d1cc318",
   "metadata": {},
   "outputs": [],
   "source": [
    "a.remove('one')"
   ]
  },
  {
   "cell_type": "code",
   "execution_count": 58,
   "id": "09aaf9c1",
   "metadata": {},
   "outputs": [
    {
     "data": {
      "text/plain": [
       "[1, 2, 3, 4, 'two', 'three', 'one', 'two', 'three']"
      ]
     },
     "execution_count": 58,
     "metadata": {},
     "output_type": "execute_result"
    }
   ],
   "source": [
    "a"
   ]
  },
  {
   "cell_type": "markdown",
   "id": "593f87fa",
   "metadata": {},
   "source": [
    "the difference between pop and remove is that pop takes index of the \n",
    "element to be removed `pop(index)` and remove takes the element which is need to be removed `remove(element)`"
   ]
  },
  {
   "cell_type": "code",
   "execution_count": 60,
   "id": "9626e6b1",
   "metadata": {},
   "outputs": [
    {
     "name": "stdout",
     "output_type": "stream",
     "text": [
      "4\n"
     ]
    }
   ],
   "source": [
    "#search the element in the list\n",
    "index = a.index(\"two\")\n",
    "print(index)"
   ]
  },
  {
   "cell_type": "code",
   "execution_count": 61,
   "id": "172b5fda",
   "metadata": {},
   "outputs": [
    {
     "name": "stdout",
     "output_type": "stream",
     "text": [
      "2\n"
     ]
    }
   ],
   "source": [
    "#count the occurence of element in the list\n",
    "n = a.count(\"two\")\n",
    "print(n)"
   ]
  },
  {
   "cell_type": "code",
   "execution_count": 63,
   "id": "d44bffbb",
   "metadata": {},
   "outputs": [
    {
     "name": "stdout",
     "output_type": "stream",
     "text": [
      "[1, 2, 3, 6, 7, 8, 87]\n"
     ]
    }
   ],
   "source": [
    "#sorting the list\n",
    "a = [2,6,3,87,1,8,7]\n",
    "a.sort()\n",
    "print(a)"
   ]
  },
  {
   "cell_type": "code",
   "execution_count": 71,
   "id": "71c2a913",
   "metadata": {},
   "outputs": [
    {
     "data": {
      "text/plain": [
       "[87, 8, 7, 6, 3, 2, 1]"
      ]
     },
     "execution_count": 71,
     "metadata": {},
     "output_type": "execute_result"
    }
   ],
   "source": [
    "a.reverse() #reverse the list\n",
    "a"
   ]
  },
  {
   "cell_type": "code",
   "execution_count": 72,
   "id": "97300d90",
   "metadata": {},
   "outputs": [],
   "source": [
    "a.clear() #emptied the list"
   ]
  },
  {
   "cell_type": "code",
   "execution_count": 74,
   "id": "4c13465d",
   "metadata": {},
   "outputs": [],
   "source": [
    "a = b.copy()"
   ]
  },
  {
   "cell_type": "code",
   "execution_count": 75,
   "id": "8f02f967",
   "metadata": {},
   "outputs": [
    {
     "data": {
      "text/plain": [
       "['one', 'two', 'three']"
      ]
     },
     "execution_count": 75,
     "metadata": {},
     "output_type": "execute_result"
    }
   ],
   "source": [
    "a"
   ]
  },
  {
   "cell_type": "markdown",
   "id": "242ad6fc",
   "metadata": {},
   "source": [
    "#### Tuple\n"
   ]
  },
  {
   "cell_type": "markdown",
   "id": "fb26cea2",
   "metadata": {},
   "source": [
    "tuples are same as list except they are immutable.\n",
    "i.e. the tuple cannot be modified"
   ]
  },
  {
   "cell_type": "code",
   "execution_count": 77,
   "id": "36829b38",
   "metadata": {},
   "outputs": [
    {
     "name": "stdout",
     "output_type": "stream",
     "text": [
      "(1, 2, 3)\n",
      "(1, 2, 3)\n"
     ]
    }
   ],
   "source": [
    "#creating a tuple\n",
    "a = (1,2,3)\n",
    "b = tuple((1,2,3))\n",
    "print(a)\n",
    "print(b)"
   ]
  },
  {
   "cell_type": "code",
   "execution_count": 99,
   "id": "c88f376a",
   "metadata": {},
   "outputs": [
    {
     "name": "stdout",
     "output_type": "stream",
     "text": [
      "<class 'tuple'>\n",
      "<class 'tuple'>\n"
     ]
    }
   ],
   "source": [
    "#creating empty tuple\n",
    "a = ()\n",
    "b = tuple()\n",
    "print(type(a))\n",
    "\n",
    "c = (1,) #tuple with only one element\n",
    "print(type(c))"
   ]
  },
  {
   "cell_type": "code",
   "execution_count": 84,
   "id": "ec73aa85",
   "metadata": {},
   "outputs": [
    {
     "name": "stdout",
     "output_type": "stream",
     "text": [
      "1\n",
      "5\n"
     ]
    }
   ],
   "source": [
    "a = (1,2,3,4,5,3,4,5,5)\n",
    "# first element\n",
    "print(a[0])\n",
    "\n",
    "#last element\n",
    "print(a[-1])"
   ]
  },
  {
   "cell_type": "code",
   "execution_count": 85,
   "id": "af0d572a",
   "metadata": {},
   "outputs": [
    {
     "name": "stdout",
     "output_type": "stream",
     "text": [
      "3\n"
     ]
    }
   ],
   "source": [
    "print(a.count(5))"
   ]
  },
  {
   "cell_type": "code",
   "execution_count": 86,
   "id": "45639aae",
   "metadata": {},
   "outputs": [
    {
     "name": "stdout",
     "output_type": "stream",
     "text": [
      "3\n"
     ]
    }
   ],
   "source": [
    "print(a.index(4))"
   ]
  },
  {
   "cell_type": "code",
   "execution_count": 91,
   "id": "72137259",
   "metadata": {},
   "outputs": [
    {
     "name": "stdout",
     "output_type": "stream",
     "text": [
      "(1, 2, 3, 'one', 'two', 'three')\n",
      "('one', 'two', 'three', 'one', 'two', 'three')\n"
     ]
    }
   ],
   "source": [
    "a = (1,2,3)\n",
    "b = (\"one\",\"two\",\"three\")\n",
    "\n",
    "a = a + b\n",
    "print(a)\n",
    "\n",
    "b = b*2 #repeated tuple\n",
    "print(b)"
   ]
  },
  {
   "cell_type": "code",
   "execution_count": 94,
   "id": "17c06c8c",
   "metadata": {},
   "outputs": [
    {
     "name": "stdout",
     "output_type": "stream",
     "text": [
      "1 2 3 [4, 5]\n"
     ]
    }
   ],
   "source": [
    "#unpacking of tuple\n",
    "a = (1,2,3,4,5)\n",
    "\n",
    "one,two,three, *numbers = a\n",
    "print(one,two,three,numbers)"
   ]
  },
  {
   "cell_type": "markdown",
   "id": "47a5607d",
   "metadata": {},
   "source": [
    "#### Sets\n",
    "\n",
    "No duplicate, unordered, mutable"
   ]
  },
  {
   "cell_type": "code",
   "execution_count": 95,
   "id": "1837d8da",
   "metadata": {},
   "outputs": [
    {
     "name": "stdout",
     "output_type": "stream",
     "text": [
      "{1, 2, 3, 4}\n",
      "{1, 4, 5, 7}\n"
     ]
    }
   ],
   "source": [
    "#creating a set\n",
    "\n",
    "s1 = {1,2,3,4}\n",
    "s2 = set((1,4,5,7))\n",
    "\n",
    "print(s1)\n",
    "print(s2)"
   ]
  },
  {
   "cell_type": "code",
   "execution_count": 102,
   "id": "904ecd1c",
   "metadata": {},
   "outputs": [
    {
     "name": "stdout",
     "output_type": "stream",
     "text": [
      "<class 'set'>\n"
     ]
    }
   ],
   "source": [
    "#create a empty set\n",
    "s3 = set()\n",
    "print(type(s3))"
   ]
  },
  {
   "cell_type": "code",
   "execution_count": 104,
   "id": "9ed6cd22",
   "metadata": {},
   "outputs": [
    {
     "name": "stdout",
     "output_type": "stream",
     "text": [
      "{1, 2, 3, 4, 5}\n"
     ]
    }
   ],
   "source": [
    "#adding elemet to set\n",
    "\n",
    "s1.add(5)\n",
    "print(s1)"
   ]
  },
  {
   "cell_type": "code",
   "execution_count": 105,
   "id": "11ea3a76",
   "metadata": {},
   "outputs": [
    {
     "name": "stdout",
     "output_type": "stream",
     "text": [
      "None\n"
     ]
    }
   ],
   "source": [
    "#remove element from set\n",
    "print(s1.remove(1))"
   ]
  },
  {
   "cell_type": "code",
   "execution_count": 106,
   "id": "35486059",
   "metadata": {},
   "outputs": [
    {
     "name": "stdout",
     "output_type": "stream",
     "text": [
      "{2, 3, 4, 5}\n"
     ]
    }
   ],
   "source": [
    "print(s1)"
   ]
  },
  {
   "cell_type": "code",
   "execution_count": 109,
   "id": "46b2195b",
   "metadata": {},
   "outputs": [
    {
     "name": "stdout",
     "output_type": "stream",
     "text": [
      "{1, 2, 3, 'two', 'one', 'three'}\n"
     ]
    }
   ],
   "source": [
    "a = {1,2,3}\n",
    "b = {\"one\",\"two\",\"three\"}\n",
    "\n",
    "u = a.union(b)\n",
    "print(u)"
   ]
  },
  {
   "cell_type": "code",
   "execution_count": 117,
   "id": "d088e49c",
   "metadata": {},
   "outputs": [
    {
     "name": "stdout",
     "output_type": "stream",
     "text": [
      "{1, 2, 4}\n"
     ]
    }
   ],
   "source": [
    "a = {1,2,3,4,5}\n",
    "b = {1,2,8,9,6,4}\n",
    "\n",
    "i = a.intersection(b)\n",
    "print(i)"
   ]
  },
  {
   "cell_type": "code",
   "execution_count": 114,
   "id": "eedee55f",
   "metadata": {},
   "outputs": [
    {
     "name": "stdout",
     "output_type": "stream",
     "text": [
      "{8, 9, 6}\n"
     ]
    }
   ],
   "source": [
    "d = a.difference(b)  # A - (A intersection B)\n",
    "print(d)"
   ]
  },
  {
   "cell_type": "code",
   "execution_count": 119,
   "id": "930fe68d",
   "metadata": {},
   "outputs": [
    {
     "name": "stdout",
     "output_type": "stream",
     "text": [
      "{1, 2, 3, 4}\n"
     ]
    }
   ],
   "source": [
    "a.discard(89)\n",
    "print(a)"
   ]
  },
  {
   "cell_type": "markdown",
   "id": "43296883",
   "metadata": {},
   "source": [
    "the difference between remove and discard is that if element is not in set then remove will throw an error unlike discard"
   ]
  },
  {
   "cell_type": "code",
   "execution_count": 120,
   "id": "bf9981f9",
   "metadata": {},
   "outputs": [],
   "source": [
    "a.update(b)"
   ]
  },
  {
   "cell_type": "code",
   "execution_count": 122,
   "id": "1de09835",
   "metadata": {},
   "outputs": [
    {
     "data": {
      "text/plain": [
       "{1, 2, 3, 4, 6, 8, 9}"
      ]
     },
     "execution_count": 122,
     "metadata": {},
     "output_type": "execute_result"
    }
   ],
   "source": [
    "a"
   ]
  },
  {
   "cell_type": "markdown",
   "id": "ff3d4557",
   "metadata": {},
   "source": [
    "#### Dictionary\n",
    "\n",
    "key - value pairs. keys are unique"
   ]
  },
  {
   "cell_type": "code",
   "execution_count": 123,
   "id": "183dc320",
   "metadata": {},
   "outputs": [
    {
     "name": "stdout",
     "output_type": "stream",
     "text": [
      "{'name': 'aniket', 'age': 21, 'city': 'Pune'}\n"
     ]
    }
   ],
   "source": [
    "#creating a dictionary\n",
    "\n",
    "dict = {\"name\":\"aniket\",\"age\":21,\"city\":\"Pune\"}\n",
    "print(dict)"
   ]
  },
  {
   "cell_type": "code",
   "execution_count": 125,
   "id": "ecadc86f",
   "metadata": {},
   "outputs": [
    {
     "name": "stdout",
     "output_type": "stream",
     "text": [
      "aniket 21 Pune\n"
     ]
    }
   ],
   "source": [
    "#accesing dictionary elements\n",
    "\n",
    "print(dict[\"name\"],dict[\"age\"],dict[\"city\"])"
   ]
  },
  {
   "cell_type": "code",
   "execution_count": 126,
   "id": "11971d3b",
   "metadata": {},
   "outputs": [
    {
     "name": "stdout",
     "output_type": "stream",
     "text": [
      "{'name': 'aniket', 'age': 21, 'city': 'wardha'}\n"
     ]
    }
   ],
   "source": [
    "#modify dictionary\n",
    "\n",
    "dict[\"city\"] =\"wardha\"\n",
    "print(dict)"
   ]
  },
  {
   "cell_type": "code",
   "execution_count": 127,
   "id": "30b1398f",
   "metadata": {},
   "outputs": [],
   "source": [
    "dict[\"mob\"] = 454252133"
   ]
  },
  {
   "cell_type": "code",
   "execution_count": 128,
   "id": "868af9b7",
   "metadata": {},
   "outputs": [
    {
     "data": {
      "text/plain": [
       "{'name': 'aniket', 'age': 21, 'city': 'wardha', 'mob': 454252133}"
      ]
     },
     "execution_count": 128,
     "metadata": {},
     "output_type": "execute_result"
    }
   ],
   "source": [
    "dict"
   ]
  },
  {
   "cell_type": "code",
   "execution_count": 129,
   "id": "c85ff5af",
   "metadata": {},
   "outputs": [
    {
     "data": {
      "text/plain": [
       "'wardha'"
      ]
     },
     "execution_count": 129,
     "metadata": {},
     "output_type": "execute_result"
    }
   ],
   "source": [
    "dict.pop('city')"
   ]
  },
  {
   "cell_type": "code",
   "execution_count": 130,
   "id": "84661b83",
   "metadata": {},
   "outputs": [
    {
     "data": {
      "text/plain": [
       "{'name': 'aniket', 'age': 21, 'mob': 454252133}"
      ]
     },
     "execution_count": 130,
     "metadata": {},
     "output_type": "execute_result"
    }
   ],
   "source": [
    "dict"
   ]
  },
  {
   "cell_type": "code",
   "execution_count": 134,
   "id": "bc43b2b2",
   "metadata": {},
   "outputs": [
    {
     "data": {
      "text/plain": [
       "'aniket'"
      ]
     },
     "execution_count": 134,
     "metadata": {},
     "output_type": "execute_result"
    }
   ],
   "source": [
    "dict.get('name',0)"
   ]
  },
  {
   "cell_type": "code",
   "execution_count": 135,
   "id": "84b3a0ba",
   "metadata": {},
   "outputs": [],
   "source": [
    "all_key = dict.keys()"
   ]
  },
  {
   "cell_type": "code",
   "execution_count": 139,
   "id": "49cbea74",
   "metadata": {},
   "outputs": [
    {
     "data": {
      "text/plain": [
       "dict_keys"
      ]
     },
     "execution_count": 139,
     "metadata": {},
     "output_type": "execute_result"
    }
   ],
   "source": [
    "type(all_key)"
   ]
  },
  {
   "cell_type": "code",
   "execution_count": 140,
   "id": "fe0bdc84",
   "metadata": {},
   "outputs": [
    {
     "name": "stdout",
     "output_type": "stream",
     "text": [
      "name\n",
      "age\n",
      "mob\n"
     ]
    }
   ],
   "source": [
    "for key in all_key:\n",
    "    print(key)"
   ]
  },
  {
   "cell_type": "code",
   "execution_count": 143,
   "id": "16afd024",
   "metadata": {},
   "outputs": [],
   "source": [
    "all_values = dict.values()"
   ]
  },
  {
   "cell_type": "code",
   "execution_count": 144,
   "id": "10f97e7f",
   "metadata": {},
   "outputs": [
    {
     "data": {
      "text/plain": [
       "dict_values(['aniket', 21, 454252133])"
      ]
     },
     "execution_count": 144,
     "metadata": {},
     "output_type": "execute_result"
    }
   ],
   "source": [
    "all_values"
   ]
  },
  {
   "cell_type": "code",
   "execution_count": 146,
   "id": "32e15c5d",
   "metadata": {},
   "outputs": [],
   "source": [
    "dict_item = dict.items()"
   ]
  },
  {
   "cell_type": "code",
   "execution_count": 152,
   "id": "ff3aacbc",
   "metadata": {},
   "outputs": [
    {
     "name": "stdout",
     "output_type": "stream",
     "text": [
      "name aniket\n",
      "age 21\n",
      "mob 454252133\n"
     ]
    }
   ],
   "source": [
    "for key,value in dict_item:\n",
    "    print(key,value)"
   ]
  },
  {
   "cell_type": "markdown",
   "id": "98b703f2",
   "metadata": {},
   "source": [
    "### Functions"
   ]
  },
  {
   "cell_type": "code",
   "execution_count": 154,
   "id": "5d372ae3",
   "metadata": {},
   "outputs": [
    {
     "name": "stdout",
     "output_type": "stream",
     "text": [
      "hello, Aniket!\n"
     ]
    }
   ],
   "source": [
    "#basic structure of a function\n",
    "\n",
    "\"\"\"\n",
    "def function_name(param1,param2,....):\n",
    "    code block\n",
    "    \n",
    "    return value\n",
    "\"\"\"\n",
    "\n",
    "def greet(name):\n",
    "    print(\"hello, {}!\".format(name))\n",
    "    \n",
    "    \n",
    "greet(\"Aniket\")"
   ]
  },
  {
   "cell_type": "code",
   "execution_count": 156,
   "id": "5862031c",
   "metadata": {},
   "outputs": [
    {
     "data": {
      "text/plain": [
       "12"
      ]
     },
     "execution_count": 156,
     "metadata": {},
     "output_type": "execute_result"
    }
   ],
   "source": [
    "def add(x,y):\n",
    "    return x+y\n",
    "\n",
    "\n",
    "add(5,7)"
   ]
  },
  {
   "cell_type": "code",
   "execution_count": 158,
   "id": "38a3d2b3",
   "metadata": {},
   "outputs": [
    {
     "data": {
      "text/plain": [
       "25"
      ]
     },
     "execution_count": 158,
     "metadata": {},
     "output_type": "execute_result"
    }
   ],
   "source": [
    "def power(base,exponent = 2):\n",
    "    result = base ** exponent\n",
    "    return result\n",
    "\n",
    "\n",
    "# power(4,5)\n",
    "power(5)"
   ]
  },
  {
   "cell_type": "code",
   "execution_count": 163,
   "id": "44fb552a",
   "metadata": {},
   "outputs": [
    {
     "name": "stdout",
     "output_type": "stream",
     "text": [
      "Positional Argument:  (1, 2, 3)\n",
      "keyward arguments:  aniket\n"
     ]
    }
   ],
   "source": [
    "#variable length arguments\n",
    "\n",
    "def print_arg(*args,**kwargs):\n",
    "    print(\"Positional Argument: \",args)\n",
    "    print(\"keyward arguments: \",kwargs)\n",
    "    \n",
    "    \n",
    "print_arg(1,2,3,name=\"aniket\",age=35)"
   ]
  },
  {
   "cell_type": "code",
   "execution_count": 164,
   "id": "4866f05e",
   "metadata": {},
   "outputs": [
    {
     "data": {
      "text/plain": [
       "32"
      ]
     },
     "execution_count": 164,
     "metadata": {},
     "output_type": "execute_result"
    }
   ],
   "source": [
    "#lambda function - Anonymous function\n",
    "\n",
    "multiply = lambda x,y: x*y\n",
    "\n",
    "multiply(4,8)\n"
   ]
  },
  {
   "cell_type": "code",
   "execution_count": 171,
   "id": "ab8cd942",
   "metadata": {},
   "outputs": [
    {
     "data": {
      "text/plain": [
       "[1, 4, 9, 16, 25]"
      ]
     },
     "execution_count": 171,
     "metadata": {},
     "output_type": "execute_result"
    }
   ],
   "source": [
    "numbers = [1,2,3,4,5]\n",
    "\n",
    "squares = map(lambda x: x**2,numbers)\n",
    "list(squares)"
   ]
  },
  {
   "cell_type": "code",
   "execution_count": 172,
   "id": "1d9b6cb3",
   "metadata": {},
   "outputs": [
    {
     "data": {
      "text/plain": [
       "[3, 4, 5]"
      ]
     },
     "execution_count": 172,
     "metadata": {},
     "output_type": "execute_result"
    }
   ],
   "source": [
    "f= filter(lambda x:x>2,numbers)\n",
    "list(f)"
   ]
  },
  {
   "cell_type": "code",
   "execution_count": null,
   "id": "ccd24c00",
   "metadata": {},
   "outputs": [],
   "source": []
  }
 ],
 "metadata": {
  "kernelspec": {
   "display_name": "Python 3 (ipykernel)",
   "language": "python",
   "name": "python3"
  },
  "language_info": {
   "codemirror_mode": {
    "name": "ipython",
    "version": 3
   },
   "file_extension": ".py",
   "mimetype": "text/x-python",
   "name": "python",
   "nbconvert_exporter": "python",
   "pygments_lexer": "ipython3",
   "version": "3.10.9"
  }
 },
 "nbformat": 4,
 "nbformat_minor": 5
}
